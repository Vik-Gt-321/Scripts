{
 "cells": [
  {
   "cell_type": "code",
   "execution_count": 1,
   "id": "56c8c03b",
   "metadata": {},
   "outputs": [],
   "source": [
    "import numpy as np"
   ]
  },
  {
   "cell_type": "code",
   "execution_count": 2,
   "id": "8800b6c5",
   "metadata": {},
   "outputs": [],
   "source": [
    "import random"
   ]
  },
  {
   "cell_type": "code",
   "execution_count": 3,
   "id": "0f19ccce",
   "metadata": {},
   "outputs": [],
   "source": [
    "def print_mat(mat):\n",
    "    for row in mat:\n",
    "        for k in row:\n",
    "            print(str(k).center(4, ' '), end = ' ')\n",
    "        print()"
   ]
  },
  {
   "cell_type": "code",
   "execution_count": 4,
   "id": "bd2c910a",
   "metadata": {},
   "outputs": [],
   "source": [
    "# print_mat([[12, 2067], [2048, 12]])"
   ]
  },
  {
   "cell_type": "code",
   "execution_count": 5,
   "id": "88f82508",
   "metadata": {},
   "outputs": [],
   "source": [
    "def add_new_two(mat):\n",
    "    \n",
    "    import random\n",
    "    r = random.randint(0,3)\n",
    "    c = random.randint(0,3)\n",
    "    \n",
    "    \n",
    "    while(mat[r][c] != 0):\n",
    "       r = random.randint(0,3)\n",
    "       c = random.randint(0,3) \n",
    "        \n",
    "    mat[r][c] = 2\n",
    "    \n",
    "    return mat"
   ]
  },
  {
   "cell_type": "code",
   "execution_count": 6,
   "id": "42aafd8d",
   "metadata": {},
   "outputs": [],
   "source": [
    "def start_game():\n",
    "    print(\"Welcome to 2048\")\n",
    "    print(\"The controls for the game are: \")\n",
    "    print(\"w - for moving elements up\")\n",
    "    print(\"s - for moving elements down\")\n",
    "    print(\"d - for moving elements right\")\n",
    "    print(\"a - for moving elements left\")\n",
    "    print()\n",
    "    print(\"Type {} to exit the game\".format('exit'))\n",
    "    print()\n",
    "    mat = np.zeros((4,4), dtype = 'uint8')\n",
    "    \n",
    "    mat = add_new_two(mat)\n",
    "    print_mat(mat)\n",
    "    #print(mat[0][0])\n",
    "    return mat"
   ]
  },
  {
   "cell_type": "code",
   "execution_count": 7,
   "id": "9d1f72bc",
   "metadata": {},
   "outputs": [],
   "source": [
    "# mat = start_game()"
   ]
  },
  {
   "cell_type": "code",
   "execution_count": 8,
   "id": "c8bc2415",
   "metadata": {},
   "outputs": [],
   "source": [
    "# print_mat(add_new_two(mat))"
   ]
  },
  {
   "cell_type": "code",
   "execution_count": 9,
   "id": "19ed2745",
   "metadata": {},
   "outputs": [],
   "source": [
    "def current_status(mat):\n",
    "    \n",
    "    for i in range(4):\n",
    "        for j in range(4):\n",
    "            if mat[i][j] == 2048:\n",
    "                return \"WON\"\n",
    "    \n",
    "    for i in range(4):\n",
    "        for j in range(4):\n",
    "            if mat[i][j] == 0:\n",
    "                return \"GAME NOT OVER\"\n",
    "            \n",
    "    for i in range(3):\n",
    "        for j in range(4):\n",
    "            if mat[i][j] == mat[i+1][j] or mat[i][j] == mat[i][j+1]:\n",
    "                return \"GAME NOT OVER\"\n",
    "            \n",
    "    for i in range(3):\n",
    "        if mat[i][3] == mat[i+1][3]:\n",
    "            return \"GAME NOT OVER\"\n",
    "        \n",
    "    for j in range(3):\n",
    "        if mat[3][j] == mat[3][j+1]:\n",
    "            return \"GAME NOT OVER\"\n",
    "        \n",
    "    return \"LOST\""
   ]
  },
  {
   "cell_type": "code",
   "execution_count": 10,
   "id": "c379b6d8",
   "metadata": {},
   "outputs": [],
   "source": [
    "# current_status(mat)"
   ]
  },
  {
   "cell_type": "code",
   "execution_count": 11,
   "id": "b94d7016",
   "metadata": {},
   "outputs": [],
   "source": [
    "def compress(mat):\n",
    "    \n",
    "    changed= False\n",
    "        \n",
    "    new_mat = np.zeros((4,4), dtype = 'uint8')\n",
    "        \n",
    "    for i in range(4):\n",
    "        pos = 0\n",
    "        for j in range(4):\n",
    "            if mat[i][j] != 0:\n",
    "                new_mat[i][pos] = mat[i][j]\n",
    "                \n",
    "                if j != pos:\n",
    "                    changed = True\n",
    "                    \n",
    "                pos += 1\n",
    "                \n",
    "    return new_mat, changed"
   ]
  },
  {
   "cell_type": "code",
   "execution_count": 12,
   "id": "49c5442e",
   "metadata": {},
   "outputs": [],
   "source": [
    "# print_mat(mat)"
   ]
  },
  {
   "cell_type": "code",
   "execution_count": 13,
   "id": "836f9091",
   "metadata": {},
   "outputs": [],
   "source": [
    "# mat = add_new_two(mat)"
   ]
  },
  {
   "cell_type": "code",
   "execution_count": 14,
   "id": "87ef7c01",
   "metadata": {},
   "outputs": [],
   "source": [
    "# print_mat(mat)"
   ]
  },
  {
   "cell_type": "code",
   "execution_count": 15,
   "id": "54930faa",
   "metadata": {},
   "outputs": [],
   "source": [
    "# mat = compress(mat)[0]"
   ]
  },
  {
   "cell_type": "code",
   "execution_count": 16,
   "id": "3240b556",
   "metadata": {},
   "outputs": [],
   "source": [
    "def merge(mat):\n",
    "    changed = False\n",
    "    for i in range(4):\n",
    "        for j in range(3):\n",
    "            if(mat[i][j] == mat[i][j + 1] and mat[i][j] != 0):\n",
    "                \n",
    "                mat[i][j] *= 2\n",
    "                mat[i][j + 1] = 0\n",
    "                \n",
    "                changed = True\n",
    "                \n",
    "    return mat, changed"
   ]
  },
  {
   "cell_type": "code",
   "execution_count": 17,
   "id": "ad57cb8e",
   "metadata": {},
   "outputs": [],
   "source": [
    "# mat = merge(mat)[0]\n",
    "# print_mat(mat)"
   ]
  },
  {
   "cell_type": "code",
   "execution_count": 18,
   "id": "f7c52a5c",
   "metadata": {},
   "outputs": [],
   "source": [
    "def reverse(mat):\n",
    "    new_mat = np.fliplr(mat)\n",
    "            \n",
    "    return new_mat"
   ]
  },
  {
   "cell_type": "code",
   "execution_count": 19,
   "id": "c0d413c2",
   "metadata": {},
   "outputs": [],
   "source": [
    "# print_mat(reverse(mat))"
   ]
  },
  {
   "cell_type": "code",
   "execution_count": 20,
   "id": "5460b60a",
   "metadata": {},
   "outputs": [],
   "source": [
    "# def rotate_anticlock_90(mat):\n",
    "#     return np.rot90(mat, 1)"
   ]
  },
  {
   "cell_type": "code",
   "execution_count": 21,
   "id": "2d49530b",
   "metadata": {},
   "outputs": [],
   "source": [
    "# def rotate_clock_90(mat):\n",
    "#     return np.rot90(mat, 3)"
   ]
  },
  {
   "cell_type": "code",
   "execution_count": 22,
   "id": "955877d4",
   "metadata": {},
   "outputs": [],
   "source": [
    "# print_mat(rotate_clock_90(mat))"
   ]
  },
  {
   "cell_type": "code",
   "execution_count": 23,
   "id": "62e8a283",
   "metadata": {},
   "outputs": [],
   "source": [
    "def move_left(grid):\n",
    "    \n",
    "    compressed, changed1 = compress(grid)\n",
    "    merged, changed2 = merge(compressed)\n",
    "    changed = changed1 or changed2\n",
    "    final, changed3 = compress(merged)\n",
    "    \n",
    "    return final, changed"
   ]
  },
  {
   "cell_type": "code",
   "execution_count": 24,
   "id": "47b90cef",
   "metadata": {},
   "outputs": [],
   "source": [
    "def move_right(grid):\n",
    "    rev = reverse(grid)\n",
    "    left, changed = move_left(rev)\n",
    "    final = reverse(left)\n",
    "    \n",
    "    return final, changed"
   ]
  },
  {
   "cell_type": "code",
   "execution_count": 25,
   "id": "c9c6cfe3",
   "metadata": {},
   "outputs": [],
   "source": [
    "def move_up(grid):\n",
    "    rot = np.rot90(grid)\n",
    "    left, changed = move_left(rot)\n",
    "    final = np.rot90(left, 3)\n",
    "    return final, changed"
   ]
  },
  {
   "cell_type": "code",
   "execution_count": 26,
   "id": "72ce4a00",
   "metadata": {},
   "outputs": [],
   "source": [
    "# print_mat(mat)"
   ]
  },
  {
   "cell_type": "code",
   "execution_count": 27,
   "id": "94fbce1a",
   "metadata": {},
   "outputs": [],
   "source": [
    "# print_mat(move_up(mat)[0])"
   ]
  },
  {
   "cell_type": "code",
   "execution_count": 28,
   "id": "5b850144",
   "metadata": {},
   "outputs": [],
   "source": [
    "def move_down(grid):\n",
    "    rot = np.rot90(grid, 1)\n",
    "    right, changed = move_right(rot)\n",
    "    final = np.rot90(right, 3)\n",
    "    return final, changed "
   ]
  },
  {
   "cell_type": "code",
   "execution_count": 29,
   "id": "da0ddb01",
   "metadata": {},
   "outputs": [],
   "source": [
    "# print_mat(mat)"
   ]
  },
  {
   "cell_type": "code",
   "execution_count": 30,
   "id": "47e7cfbc",
   "metadata": {},
   "outputs": [],
   "source": [
    "def can_left(mat):\n",
    "    comp, changed = compress(mat)\n",
    "    if(changed):\n",
    "        return True\n",
    "    merged, changed2 = merge(comp)\n",
    "    if changed2:\n",
    "        return True\n",
    "    return False"
   ]
  },
  {
   "cell_type": "code",
   "execution_count": 31,
   "id": "29f254d8",
   "metadata": {},
   "outputs": [],
   "source": [
    "# can_left(mat)"
   ]
  },
  {
   "cell_type": "code",
   "execution_count": 32,
   "id": "1c09893c",
   "metadata": {},
   "outputs": [],
   "source": [
    "# mat[2, 1] = 2"
   ]
  },
  {
   "cell_type": "code",
   "execution_count": 33,
   "id": "6cea6073",
   "metadata": {},
   "outputs": [],
   "source": [
    "def can_right(mat):\n",
    "    rot = np.rot90(mat, 2)\n",
    "    return can_left(rot)"
   ]
  },
  {
   "cell_type": "code",
   "execution_count": 34,
   "id": "b72022bb",
   "metadata": {},
   "outputs": [],
   "source": [
    "# mat = move_right(mat)[0]"
   ]
  },
  {
   "cell_type": "code",
   "execution_count": 35,
   "id": "e080f0c9",
   "metadata": {},
   "outputs": [],
   "source": [
    "# print_mat(mat)"
   ]
  },
  {
   "cell_type": "code",
   "execution_count": 36,
   "id": "5c932410",
   "metadata": {},
   "outputs": [],
   "source": [
    "# can_right(mat)"
   ]
  },
  {
   "cell_type": "code",
   "execution_count": 37,
   "id": "27c314d7",
   "metadata": {},
   "outputs": [],
   "source": [
    "def can_up(mat):\n",
    "    rot = np.rot90(mat, 1)\n",
    "    return can_left(rot)"
   ]
  },
  {
   "cell_type": "code",
   "execution_count": 38,
   "id": "3ab04fd3",
   "metadata": {},
   "outputs": [],
   "source": [
    "# print_mat(move_up(mat)[0])"
   ]
  },
  {
   "cell_type": "code",
   "execution_count": 39,
   "id": "7439d0af",
   "metadata": {},
   "outputs": [],
   "source": [
    "# can_up(move_up(mat)[0])"
   ]
  },
  {
   "cell_type": "code",
   "execution_count": 40,
   "id": "c46370ba",
   "metadata": {},
   "outputs": [],
   "source": [
    "def can_down(mat):\n",
    "    rot = np.rot90(mat, 1)\n",
    "    return can_right(rot)"
   ]
  },
  {
   "cell_type": "code",
   "execution_count": 41,
   "id": "b6c2c8a7",
   "metadata": {},
   "outputs": [],
   "source": [
    "# print_mat(mat)"
   ]
  },
  {
   "cell_type": "code",
   "execution_count": 42,
   "id": "52e67cd0",
   "metadata": {},
   "outputs": [],
   "source": [
    "# can_down(move_down(mat)[0])"
   ]
  },
  {
   "cell_type": "code",
   "execution_count": null,
   "id": "1474d668",
   "metadata": {},
   "outputs": [],
   "source": []
  }
 ],
 "metadata": {
  "kernelspec": {
   "display_name": "Python 3",
   "language": "python",
   "name": "python3"
  },
  "language_info": {
   "codemirror_mode": {
    "name": "ipython",
    "version": 3
   },
   "file_extension": ".py",
   "mimetype": "text/x-python",
   "name": "python",
   "nbconvert_exporter": "python",
   "pygments_lexer": "ipython3",
   "version": "3.9.5"
  }
 },
 "nbformat": 4,
 "nbformat_minor": 5
}
