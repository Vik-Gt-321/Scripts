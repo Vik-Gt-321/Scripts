{
 "cells": [
  {
   "cell_type": "code",
   "execution_count": 1,
   "id": "56dc5c59",
   "metadata": {},
   "outputs": [],
   "source": [
    "import numpy as np\n",
    "import random\n",
    "import os"
   ]
  },
  {
   "cell_type": "code",
   "execution_count": 2,
   "id": "60009951",
   "metadata": {},
   "outputs": [],
   "source": [
    "# os.getcwd()"
   ]
  },
  {
   "cell_type": "code",
   "execution_count": 3,
   "id": "6d6fd85d",
   "metadata": {},
   "outputs": [],
   "source": [
    "# pip install ipynb"
   ]
  },
  {
   "cell_type": "code",
   "execution_count": 4,
   "id": "b4b9fb97",
   "metadata": {},
   "outputs": [],
   "source": [
    "import ipynb.fs.full.functions_in_numpy as func;"
   ]
  },
  {
   "cell_type": "code",
   "execution_count": null,
   "id": "1ebbd270",
   "metadata": {},
   "outputs": [],
   "source": [
    "# s= \"hello\"\n",
    "# print(\"_hello_\")\n",
    "# print(s.center(7, ' '))"
   ]
  },
  {
   "cell_type": "code",
   "execution_count": null,
   "id": "4284b29a",
   "metadata": {},
   "outputs": [],
   "source": [
    "# s = 2048\n",
    "# print(2048)\n",
    "# print(str(s).center(4, ' '))"
   ]
  },
  {
   "cell_type": "code",
   "execution_count": 6,
   "id": "c6f3de71",
   "metadata": {},
   "outputs": [
    {
     "name": "stdout",
     "output_type": "stream",
     "text": [
      "Welcome to 2048\n",
      "The controls for the game are: \n",
      "w - for moving elements up\n",
      "s - for moving elements down\n",
      "d - for moving elements right\n",
      "a - for moving elements left\n",
      "\n",
      "Type exit to exit the game\n",
      "\n",
      " 0    0    0    0   \n",
      " 2    0    0    0   \n",
      " 0    0    0    0   \n",
      " 0    0    0    0   \n"
     ]
    }
   ],
   "source": [
    "if __name__ == '__main__':\n",
    "    mat = func.start_game()"
   ]
  },
  {
   "cell_type": "code",
   "execution_count": 7,
   "id": "8615d1f2",
   "metadata": {},
   "outputs": [],
   "source": [
    "# import pygame"
   ]
  },
  {
   "cell_type": "code",
   "execution_count": 8,
   "id": "0d4e1ae4",
   "metadata": {},
   "outputs": [],
   "source": [
    "# events = pygame.event.get()\n",
    "# x = input(\"press\")\n",
    "# # if x == pygame.K_RIGHT:\n",
    "#     print(\"yes\")"
   ]
  },
  {
   "cell_type": "code",
   "execution_count": 9,
   "id": "e633d6ec",
   "metadata": {},
   "outputs": [
    {
     "name": "stdout",
     "output_type": "stream",
     "text": [
      "Enter move: a\n",
      "Invalid move\n",
      "Enter move: d\n",
      " 0    0    0    0   \n",
      " 0    0    0    2   \n",
      " 0    0    0    2   \n",
      " 0    0    0    0   \n",
      "\n",
      "Enter move: w\n",
      " 0    0    0    4   \n",
      " 0    0    0    0   \n",
      " 0    0    2    0   \n",
      " 0    0    0    0   \n",
      "\n",
      "Enter move: w\n",
      " 0    0    2    4   \n",
      " 0    0    0    0   \n",
      " 0    0    0    0   \n",
      " 0    0    0    2   \n",
      "\n",
      "Enter move: a\n",
      " 2    4    0    0   \n",
      " 0    0    0    0   \n",
      " 2    0    0    0   \n",
      " 2    0    0    0   \n",
      "\n",
      "Enter move: w\n",
      " 4    4    0    0   \n",
      " 2    0    0    0   \n",
      " 0    0    2    0   \n",
      " 0    0    0    0   \n",
      "\n",
      "Enter move: a\n",
      " 8    0    0    0   \n",
      " 2    0    0    0   \n",
      " 2    0    0    2   \n",
      " 0    0    0    0   \n",
      "\n",
      "Enter move: a\n",
      " 8    0    0    0   \n",
      " 2    0    2    0   \n",
      " 4    0    0    0   \n",
      " 0    0    0    0   \n",
      "\n",
      "Enter move: a\n",
      " 8    0    0    0   \n",
      " 4    2    0    0   \n",
      " 4    0    0    0   \n",
      " 0    0    0    0   \n",
      "\n",
      "Enter move: w\n",
      " 8    2    0    0   \n",
      " 8    0    0    2   \n",
      " 0    0    0    0   \n",
      " 0    0    0    0   \n",
      "\n",
      "Enter move: w\n",
      " 16   2    0    2   \n",
      " 0    0    0    0   \n",
      " 0    0    0    0   \n",
      " 0    2    0    0   \n",
      "\n",
      "Enter move: w\n",
      " 16   4    2    2   \n",
      " 0    0    0    0   \n",
      " 0    0    0    0   \n",
      " 0    0    0    0   \n",
      "\n",
      "Enter move: a\n",
      " 16   4    4    0   \n",
      " 0    0    0    0   \n",
      " 0    0    0    0   \n",
      " 0    2    0    0   \n",
      "\n",
      "Enter move: a\n",
      " 16   8    0    0   \n",
      " 0    0    0    0   \n",
      " 2    0    0    0   \n",
      " 2    0    0    0   \n",
      "\n",
      "Enter move: w\n",
      " 16   8    0    0   \n",
      " 4    0    0    0   \n",
      " 0    0    0    0   \n",
      " 0    0    0    2   \n",
      "\n",
      "Enter move: w\n",
      " 16   8    0    2   \n",
      " 4    0    0    0   \n",
      " 2    0    0    0   \n",
      " 0    0    0    0   \n",
      "\n",
      "Enter move: exit\n",
      "You have left the game\n"
     ]
    }
   ],
   "source": [
    "while True:\n",
    "    x = input(\"Enter move: \")\n",
    "    \n",
    "    if x == 'w':\n",
    "        if func.can_up(mat) == False:\n",
    "            print(\"Invalid move\")\n",
    "            continue\n",
    "        mat, changed = func.move_up(mat)\n",
    "        status = func.current_status(mat)\n",
    "        if status == 'GAME NOT OVER':\n",
    "            func.add_new_two(mat)\n",
    "\n",
    "        elif status == \"WON\":\n",
    "            print(status)\n",
    "            break\n",
    "        else:\n",
    "            print(status)\n",
    "            break\n",
    "            \n",
    "    elif x == 's':\n",
    "        if func.can_down(mat) == False:\n",
    "            print(\"Invalid move\")\n",
    "            continue\n",
    "        mat, changed = func.move_down(mat)\n",
    "        status = func.current_status(mat)\n",
    "        if status == 'GAME NOT OVER':\n",
    "            func.add_new_two(mat)\n",
    "\n",
    "        elif status == \"WON\":\n",
    "            print(status)\n",
    "            break\n",
    "        else:\n",
    "            print(status)\n",
    "            break\n",
    "            \n",
    "    elif x == 'a':\n",
    "        if func.can_left(mat) == False:\n",
    "            print(\"Invalid move\")\n",
    "            continue\n",
    "        mat, changed = func.move_left(mat)\n",
    "        status = func.current_status(mat)\n",
    "        if status == 'GAME NOT OVER':\n",
    "            func.add_new_two(mat)\n",
    "\n",
    "        elif status == \"WON\":\n",
    "            print(status)\n",
    "            break\n",
    "        else:\n",
    "            print(status)\n",
    "            break\n",
    "    \n",
    "    elif x == 'd':\n",
    "        if func.can_right(mat) == False:\n",
    "            print(\"Invalid move\")\n",
    "            continue\n",
    "        mat, changed = func.move_right(mat)\n",
    "        status = func.current_status(mat)\n",
    "        if status == 'GAME NOT OVER':\n",
    "            func.add_new_two(mat)\n",
    "\n",
    "        elif status == \"WON\":\n",
    "            print(status)\n",
    "            break\n",
    "        else:\n",
    "            print(status)\n",
    "            break\n",
    "            \n",
    "    elif x == 'exit':\n",
    "        print(\"You have left the game\")\n",
    "        break\n",
    "    \n",
    "    else:\n",
    "        print(\"Invalid Key\")\n",
    "    func.print_mat(mat)\n",
    "    print()"
   ]
  },
  {
   "cell_type": "code",
   "execution_count": null,
   "id": "a2066800",
   "metadata": {},
   "outputs": [],
   "source": []
  },
  {
   "cell_type": "code",
   "execution_count": null,
   "id": "672e3bed",
   "metadata": {},
   "outputs": [],
   "source": []
  }
 ],
 "metadata": {
  "kernelspec": {
   "display_name": "Python 3",
   "language": "python",
   "name": "python3"
  },
  "language_info": {
   "codemirror_mode": {
    "name": "ipython",
    "version": 3
   },
   "file_extension": ".py",
   "mimetype": "text/x-python",
   "name": "python",
   "nbconvert_exporter": "python",
   "pygments_lexer": "ipython3",
   "version": "3.9.5"
  }
 },
 "nbformat": 4,
 "nbformat_minor": 5
}
